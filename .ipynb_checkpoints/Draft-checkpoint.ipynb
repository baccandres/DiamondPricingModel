{
 "cells": [
  {
   "cell_type": "code",
   "execution_count": 1,
   "id": "c803576e",
   "metadata": {},
   "outputs": [],
   "source": [
    "import numpy as np\n",
    "import pandas as pd\n",
    "import seaborn as sns\n",
    "import matplotlib.pyplot as plt\n",
    "%matplotlib inline\n",
    "sns.set(color_codes=True)"
   ]
  },
  {
   "cell_type": "code",
   "execution_count": 2,
   "id": "b3528b9f",
   "metadata": {},
   "outputs": [],
   "source": [
    "from sklearn.model_selection import train_test_split, cross_val_score, GridSearchCV, RandomizedSearchCV, KFold\n",
    "from sklearn.linear_model import LinearRegression, Ridge, Lasso, SGDRegressor, ElasticNet\n",
    "from sklearn.neighbors import KNeighborsRegressor\n",
    "from sklearn.ensemble import GradientBoostingRegressor, RandomForestRegressor\n",
    "from sklearn.tree import DecisionTreeRegressor\n",
    "from sklearn import metrics\n",
    "from sklearn.svm import SVR\n",
    "from sklearn.feature_selection import SelectKBest, chi2, RFE\n",
    "from sklearn.preprocessing import StandardScaler, MinMaxScaler\n",
    "from sklearn.compose import ColumnTransformer"
   ]
  },
  {
   "cell_type": "code",
   "execution_count": 3,
   "id": "d1dd6813",
   "metadata": {},
   "outputs": [
    {
     "data": {
      "text/html": [
       "<div>\n",
       "<style scoped>\n",
       "    .dataframe tbody tr th:only-of-type {\n",
       "        vertical-align: middle;\n",
       "    }\n",
       "\n",
       "    .dataframe tbody tr th {\n",
       "        vertical-align: top;\n",
       "    }\n",
       "\n",
       "    .dataframe thead th {\n",
       "        text-align: right;\n",
       "    }\n",
       "</style>\n",
       "<table border=\"1\" class=\"dataframe\">\n",
       "  <thead>\n",
       "    <tr style=\"text-align: right;\">\n",
       "      <th></th>\n",
       "      <th>id</th>\n",
       "      <th>carat</th>\n",
       "      <th>cut</th>\n",
       "      <th>color</th>\n",
       "      <th>clarity</th>\n",
       "      <th>depth</th>\n",
       "      <th>table</th>\n",
       "      <th>x</th>\n",
       "      <th>y</th>\n",
       "      <th>z</th>\n",
       "      <th>price</th>\n",
       "    </tr>\n",
       "  </thead>\n",
       "  <tbody>\n",
       "    <tr>\n",
       "      <th>27657</th>\n",
       "      <td>27657</td>\n",
       "      <td>0.59</td>\n",
       "      <td>Premium</td>\n",
       "      <td>H</td>\n",
       "      <td>VVS1</td>\n",
       "      <td>62.0</td>\n",
       "      <td>58.0</td>\n",
       "      <td>5.38</td>\n",
       "      <td>5.36</td>\n",
       "      <td>3.33</td>\n",
       "      <td>1982</td>\n",
       "    </tr>\n",
       "    <tr>\n",
       "      <th>11004</th>\n",
       "      <td>11004</td>\n",
       "      <td>0.71</td>\n",
       "      <td>Very Good</td>\n",
       "      <td>F</td>\n",
       "      <td>SI2</td>\n",
       "      <td>59.0</td>\n",
       "      <td>58.0</td>\n",
       "      <td>5.84</td>\n",
       "      <td>5.89</td>\n",
       "      <td>3.46</td>\n",
       "      <td>2098</td>\n",
       "    </tr>\n",
       "    <tr>\n",
       "      <th>5247</th>\n",
       "      <td>5247</td>\n",
       "      <td>1.02</td>\n",
       "      <td>Very Good</td>\n",
       "      <td>E</td>\n",
       "      <td>SI2</td>\n",
       "      <td>59.6</td>\n",
       "      <td>59.0</td>\n",
       "      <td>6.54</td>\n",
       "      <td>6.59</td>\n",
       "      <td>3.91</td>\n",
       "      <td>4398</td>\n",
       "    </tr>\n",
       "  </tbody>\n",
       "</table>\n",
       "</div>"
      ],
      "text/plain": [
       "          id  carat        cut color clarity  depth  table     x     y     z  \\\n",
       "27657  27657   0.59    Premium     H    VVS1   62.0   58.0  5.38  5.36  3.33   \n",
       "11004  11004   0.71  Very Good     F     SI2   59.0   58.0  5.84  5.89  3.46   \n",
       "5247    5247   1.02  Very Good     E     SI2   59.6   59.0  6.54  6.59  3.91   \n",
       "\n",
       "       price  \n",
       "27657   1982  \n",
       "11004   2098  \n",
       "5247    4398  "
      ]
     },
     "execution_count": 3,
     "metadata": {},
     "output_type": "execute_result"
    }
   ],
   "source": [
    "df_diamonds = pd.read_csv('data/train.csv')\n",
    "df_diamonds_test = pd.read_csv('data/test.csv')\n",
    "df_diamonds.sample(3)"
   ]
  },
  {
   "cell_type": "code",
   "execution_count": 4,
   "id": "7cda59a9",
   "metadata": {},
   "outputs": [
    {
     "data": {
      "text/plain": [
       "(40455, 11)"
      ]
     },
     "execution_count": 4,
     "metadata": {},
     "output_type": "execute_result"
    }
   ],
   "source": [
    "df_diamonds.shape"
   ]
  },
  {
   "cell_type": "code",
   "execution_count": 5,
   "id": "8347009b",
   "metadata": {},
   "outputs": [
    {
     "data": {
      "text/plain": [
       "0"
      ]
     },
     "execution_count": 5,
     "metadata": {},
     "output_type": "execute_result"
    }
   ],
   "source": [
    "df_diamonds.duplicated().sum() #no duplicates"
   ]
  },
  {
   "cell_type": "code",
   "execution_count": 6,
   "id": "ff65d86f",
   "metadata": {},
   "outputs": [
    {
     "data": {
      "text/plain": [
       "id         40455\n",
       "carat      40455\n",
       "cut        40455\n",
       "color      40455\n",
       "clarity    40455\n",
       "depth      40455\n",
       "table      40455\n",
       "x          40455\n",
       "y          40455\n",
       "z          40455\n",
       "price      40455\n",
       "dtype: int64"
      ]
     },
     "execution_count": 6,
     "metadata": {},
     "output_type": "execute_result"
    }
   ],
   "source": [
    "df_diamonds.count()"
   ]
  },
  {
   "cell_type": "code",
   "execution_count": 7,
   "id": "efe59885",
   "metadata": {},
   "outputs": [
    {
     "data": {
      "text/plain": [
       "id           int64\n",
       "carat      float64\n",
       "cut         object\n",
       "color       object\n",
       "clarity     object\n",
       "depth      float64\n",
       "table      float64\n",
       "x          float64\n",
       "y          float64\n",
       "z          float64\n",
       "price        int64\n",
       "dtype: object"
      ]
     },
     "execution_count": 7,
     "metadata": {},
     "output_type": "execute_result"
    }
   ],
   "source": [
    "df_diamonds.dtypes #transform cut, color and clarity to numbers"
   ]
  },
  {
   "cell_type": "code",
   "execution_count": 8,
   "id": "6d5d970f",
   "metadata": {},
   "outputs": [
    {
     "data": {
      "text/plain": [
       "id         0\n",
       "carat      0\n",
       "cut        0\n",
       "color      0\n",
       "clarity    0\n",
       "depth      0\n",
       "table      0\n",
       "x          0\n",
       "y          0\n",
       "z          0\n",
       "price      0\n",
       "dtype: int64"
      ]
     },
     "execution_count": 8,
     "metadata": {},
     "output_type": "execute_result"
    }
   ],
   "source": [
    "df_diamonds.isnull().sum() #database appears clean"
   ]
  },
  {
   "cell_type": "code",
   "execution_count": 9,
   "id": "39fc766d",
   "metadata": {},
   "outputs": [
    {
     "name": "stdout",
     "output_type": "stream",
     "text": [
      "carat       0.64\n",
      "depth       1.50\n",
      "table       3.00\n",
      "x           1.83\n",
      "y           1.82\n",
      "z           1.13\n",
      "price    4382.00\n",
      "dtype: float64\n"
     ]
    }
   ],
   "source": [
    "Q1 = df_diamonds.drop(columns='id').quantile(.25)\n",
    "Q3 = df_diamonds.drop(columns='id').quantile(.75)\n",
    "IQR = Q3-Q1\n",
    "print(IQR) #later, test a model without outliers / use z-score"
   ]
  },
  {
   "cell_type": "code",
   "execution_count": 10,
   "id": "5a179010",
   "metadata": {},
   "outputs": [],
   "source": [
    "#transform cut, color and clarity to numbers"
   ]
  },
  {
   "cell_type": "code",
   "execution_count": 11,
   "id": "47ac2f66",
   "metadata": {},
   "outputs": [
    {
     "data": {
      "text/plain": [
       "['Ideal', 'Fair', 'Very Good', 'Premium', 'Good']"
      ]
     },
     "execution_count": 11,
     "metadata": {},
     "output_type": "execute_result"
    }
   ],
   "source": [
    "list(df_diamonds.cut.unique()) #scale not categorical"
   ]
  },
  {
   "cell_type": "code",
   "execution_count": 12,
   "id": "f516b38f",
   "metadata": {},
   "outputs": [
    {
     "data": {
      "text/plain": [
       "{0, 1, 2, 3, 4}"
      ]
     },
     "execution_count": 12,
     "metadata": {},
     "output_type": "execute_result"
    }
   ],
   "source": [
    "df_diamonds.cut.replace({\n",
    " 'Ideal':4,\n",
    "'Premium':3,\n",
    "'Very Good':2,\n",
    "'Good':1,\n",
    "'Fair':0}, inplace=True)\n",
    "\n",
    "set(df_diamonds.cut)"
   ]
  },
  {
   "cell_type": "code",
   "execution_count": 13,
   "id": "b39ca4c5",
   "metadata": {},
   "outputs": [
    {
     "data": {
      "text/plain": [
       "['G', 'H', 'F', 'J', 'E', 'I', 'D']"
      ]
     },
     "execution_count": 13,
     "metadata": {},
     "output_type": "execute_result"
    }
   ],
   "source": [
    "list(df_diamonds.color.unique()) #scale not categorical"
   ]
  },
  {
   "cell_type": "code",
   "execution_count": 14,
   "id": "b8f07b64",
   "metadata": {},
   "outputs": [],
   "source": [
    "#df_diamonds.color.replace({'D':0,\n",
    "#                           'E':.5,\n",
    "#                           'F':1,\n",
    "#                           'G':1.5,\n",
    "#                           'H':2,\n",
    "#                           'I':2.5,\n",
    "#                           'J':3}, inplace=True)\n",
    "#set(df_diamonds.color)"
   ]
  },
  {
   "cell_type": "code",
   "execution_count": 15,
   "id": "8f1dfbbd",
   "metadata": {},
   "outputs": [
    {
     "data": {
      "text/plain": [
       "{0, 1, 2, 3, 4, 5, 6}"
      ]
     },
     "execution_count": 15,
     "metadata": {},
     "output_type": "execute_result"
    }
   ],
   "source": [
    "df_diamonds.color.replace({'D':6,\n",
    "                           'E':5,\n",
    "                           'F':4,\n",
    "                           'G':3,\n",
    "                           'H':2,\n",
    "                           'I':1,\n",
    "                           'J':0}, inplace=True)\n",
    "set(df_diamonds.color)"
   ]
  },
  {
   "cell_type": "code",
   "execution_count": 16,
   "id": "91b5c95f",
   "metadata": {},
   "outputs": [
    {
     "data": {
      "text/plain": [
       "{0, 1, 2, 3, 4, 5, 6}"
      ]
     },
     "execution_count": 16,
     "metadata": {},
     "output_type": "execute_result"
    }
   ],
   "source": [
    "### TEST DATABASE\n",
    "df_diamonds_test.color.replace({'D':6,\n",
    "                           'E':5,\n",
    "                           'F':4,\n",
    "                           'G':3,\n",
    "                           'H':2,\n",
    "                           'I':1,\n",
    "                           'J':0}, inplace=True)\n",
    "set(df_diamonds.color)"
   ]
  },
  {
   "cell_type": "code",
   "execution_count": 17,
   "id": "d686b3a1",
   "metadata": {},
   "outputs": [
    {
     "data": {
      "text/plain": [
       "['VVS2', 'VS2', 'VS1', 'SI2', 'SI1', 'VVS1', 'IF', 'I1']"
      ]
     },
     "execution_count": 17,
     "metadata": {},
     "output_type": "execute_result"
    }
   ],
   "source": [
    "list(df_diamonds.clarity.unique()) #scale not categorical"
   ]
  },
  {
   "cell_type": "code",
   "execution_count": 18,
   "id": "2ce9ad5b",
   "metadata": {},
   "outputs": [
    {
     "data": {
      "text/plain": [
       "{0, 1, 2, 3, 4, 5, 6, 8}"
      ]
     },
     "execution_count": 18,
     "metadata": {},
     "output_type": "execute_result"
    }
   ],
   "source": [
    "df_diamonds.clarity.replace({'IF': 8,\n",
    "'VVS1': 6,\n",
    "'VVS2': 5,\n",
    "'VS1': 4,\n",
    "'VS2': 3,\n",
    "'SI1': 2,\n",
    "'SI2': 1,\n",
    "'I1': 0\n",
    "}, inplace=True)\n",
    "\n",
    "set(df_diamonds.clarity)"
   ]
  },
  {
   "cell_type": "code",
   "execution_count": 19,
   "id": "ac450944",
   "metadata": {},
   "outputs": [
    {
     "data": {
      "text/plain": [
       "{0, 1, 2, 3, 4, 5, 6, 8}"
      ]
     },
     "execution_count": 19,
     "metadata": {},
     "output_type": "execute_result"
    }
   ],
   "source": [
    "### TEST DATABASE\n",
    "df_diamonds_test.clarity.replace({'IF': 8,\n",
    "'VVS1': 6,\n",
    "'VVS2': 5,\n",
    "'VS1': 4,\n",
    "'VS2': 3,\n",
    "'SI1': 2,\n",
    "'SI2': 1,\n",
    "'I1': 0\n",
    "}, inplace=True)\n",
    "\n",
    "set(df_diamonds.clarity)"
   ]
  },
  {
   "cell_type": "code",
   "execution_count": 20,
   "id": "f35df4da",
   "metadata": {},
   "outputs": [],
   "source": [
    "## linearity check"
   ]
  },
  {
   "cell_type": "code",
   "execution_count": 21,
   "id": "504f9398",
   "metadata": {},
   "outputs": [
    {
     "data": {
      "image/png": "[encoded data removed]",
      "text/plain": [
       "<Figure size 792x648 with 1 Axes>"
      ]
     },
     "metadata": {},
     "output_type": "display_data"
    }
   ],
   "source": [
    "df_correl = df_diamonds.drop(columns='id') #all variables model\n",
    "\n",
    "sns.set_theme(style=\"white\")\n",
    "corr = df_correl.corr()\n",
    "mask = np.triu(np.ones_like(corr, dtype=bool))\n",
    "f, ax = plt.subplots(figsize=(11, 9))\n",
    "cmap = sns.diverging_palette(230, 20, as_cmap=True)\n",
    "sns.heatmap(corr, mask=mask, cmap=cmap, vmax=.3, center=0,\n",
    "            square=True, linewidths=.5, cbar_kws={\"shrink\": .5}, \n",
    "            annot=True, cbar=False);"
   ]
  },
  {
   "cell_type": "code",
   "execution_count": 22,
   "id": "9248dbf1",
   "metadata": {},
   "outputs": [],
   "source": [
    "#carat, x,y,z have the highest correllation with price"
   ]
  },
  {
   "cell_type": "code",
   "execution_count": 23,
   "id": "d306f42c",
   "metadata": {},
   "outputs": [
    {
     "data": {
      "image/png": "[encoded data removed]",
      "text/plain": [
       "<Figure size 432x288 with 1 Axes>"
      ]
     },
     "metadata": {},
     "output_type": "display_data"
    }
   ],
   "source": [
    "plt.scatter(df_diamonds.carat, df_diamonds.price)\n",
    "plt.show()"
   ]
  },
  {
   "cell_type": "code",
   "execution_count": 24,
   "id": "9eb4c972",
   "metadata": {},
   "outputs": [],
   "source": [
    "### Feature scaling"
   ]
  },
  {
   "cell_type": "code",
   "execution_count": 25,
   "id": "3599f51f",
   "metadata": {},
   "outputs": [],
   "source": [
    "scaler = StandardScaler()\n",
    "min_max = MinMaxScaler()"
   ]
  },
  {
   "cell_type": "code",
   "execution_count": 26,
   "id": "307611c3",
   "metadata": {},
   "outputs": [
    {
     "data": {
      "text/html": [
       "<div>\n",
       "<style scoped>\n",
       "    .dataframe tbody tr th:only-of-type {\n",
       "        vertical-align: middle;\n",
       "    }\n",
       "\n",
       "    .dataframe tbody tr th {\n",
       "        vertical-align: top;\n",
       "    }\n",
       "\n",
       "    .dataframe thead th {\n",
       "        text-align: right;\n",
       "    }\n",
       "</style>\n",
       "<table border=\"1\" class=\"dataframe\">\n",
       "  <thead>\n",
       "    <tr style=\"text-align: right;\">\n",
       "      <th></th>\n",
       "      <th>carat</th>\n",
       "      <th>cut</th>\n",
       "      <th>color</th>\n",
       "      <th>clarity</th>\n",
       "      <th>depth</th>\n",
       "      <th>table</th>\n",
       "      <th>x</th>\n",
       "      <th>y</th>\n",
       "      <th>z</th>\n",
       "    </tr>\n",
       "  </thead>\n",
       "  <tbody>\n",
       "    <tr>\n",
       "      <th>25888</th>\n",
       "      <td>0.037422</td>\n",
       "      <td>0.25</td>\n",
       "      <td>0.833333</td>\n",
       "      <td>1.000</td>\n",
       "      <td>0.447222</td>\n",
       "      <td>0.288462</td>\n",
       "      <td>0.441341</td>\n",
       "      <td>0.150000</td>\n",
       "      <td>0.402579</td>\n",
       "    </tr>\n",
       "    <tr>\n",
       "      <th>4473</th>\n",
       "      <td>0.072765</td>\n",
       "      <td>1.00</td>\n",
       "      <td>0.333333</td>\n",
       "      <td>0.250</td>\n",
       "      <td>0.538889</td>\n",
       "      <td>0.269231</td>\n",
       "      <td>0.486965</td>\n",
       "      <td>0.166038</td>\n",
       "      <td>0.469914</td>\n",
       "    </tr>\n",
       "    <tr>\n",
       "      <th>34045</th>\n",
       "      <td>0.203742</td>\n",
       "      <td>0.50</td>\n",
       "      <td>0.166667</td>\n",
       "      <td>0.125</td>\n",
       "      <td>0.569444</td>\n",
       "      <td>0.269231</td>\n",
       "      <td>0.628492</td>\n",
       "      <td>0.213836</td>\n",
       "      <td>0.616046</td>\n",
       "    </tr>\n",
       "  </tbody>\n",
       "</table>\n",
       "</div>"
      ],
      "text/plain": [
       "          carat   cut     color  clarity     depth     table         x  \\\n",
       "25888  0.037422  0.25  0.833333    1.000  0.447222  0.288462  0.441341   \n",
       "4473   0.072765  1.00  0.333333    0.250  0.538889  0.269231  0.486965   \n",
       "34045  0.203742  0.50  0.166667    0.125  0.569444  0.269231  0.628492   \n",
       "\n",
       "              y         z  \n",
       "25888  0.150000  0.402579  \n",
       "4473   0.166038  0.469914  \n",
       "34045  0.213836  0.616046  "
      ]
     },
     "execution_count": 26,
     "metadata": {},
     "output_type": "execute_result"
    }
   ],
   "source": [
    "df_diamonds_scaled = min_max.fit_transform(df_diamonds.drop(columns=['id','price']))\n",
    "df_diamonds_scaled = pd.DataFrame(df_diamonds_scaled)\n",
    "col_names = list(df_diamonds.drop(columns=['id','price']).columns)\n",
    "df_diamonds_scaled.set_axis(col_names, axis=1,inplace=True)\n",
    "df_diamonds_scaled.sample(3)"
   ]
  },
  {
   "cell_type": "code",
   "execution_count": 27,
   "id": "734bae8a",
   "metadata": {},
   "outputs": [
    {
     "data": {
      "text/html": [
       "<div>\n",
       "<style scoped>\n",
       "    .dataframe tbody tr th:only-of-type {\n",
       "        vertical-align: middle;\n",
       "    }\n",
       "\n",
       "    .dataframe tbody tr th {\n",
       "        vertical-align: top;\n",
       "    }\n",
       "\n",
       "    .dataframe thead th {\n",
       "        text-align: right;\n",
       "    }\n",
       "</style>\n",
       "<table border=\"1\" class=\"dataframe\">\n",
       "  <thead>\n",
       "    <tr style=\"text-align: right;\">\n",
       "      <th></th>\n",
       "      <th>id</th>\n",
       "      <th>carat</th>\n",
       "      <th>cut</th>\n",
       "      <th>color</th>\n",
       "      <th>clarity</th>\n",
       "      <th>depth</th>\n",
       "      <th>table</th>\n",
       "      <th>x</th>\n",
       "      <th>y</th>\n",
       "      <th>z</th>\n",
       "    </tr>\n",
       "  </thead>\n",
       "  <tbody>\n",
       "    <tr>\n",
       "      <th>0</th>\n",
       "      <td>0</td>\n",
       "      <td>1.00</td>\n",
       "      <td>Fair</td>\n",
       "      <td>0</td>\n",
       "      <td>1</td>\n",
       "      <td>56.3</td>\n",
       "      <td>64.0</td>\n",
       "      <td>6.58</td>\n",
       "      <td>6.54</td>\n",
       "      <td>3.69</td>\n",
       "    </tr>\n",
       "    <tr>\n",
       "      <th>1</th>\n",
       "      <td>1</td>\n",
       "      <td>0.83</td>\n",
       "      <td>Premium</td>\n",
       "      <td>3</td>\n",
       "      <td>2</td>\n",
       "      <td>62.3</td>\n",
       "      <td>58.0</td>\n",
       "      <td>6.01</td>\n",
       "      <td>5.97</td>\n",
       "      <td>3.73</td>\n",
       "    </tr>\n",
       "    <tr>\n",
       "      <th>2</th>\n",
       "      <td>2</td>\n",
       "      <td>1.00</td>\n",
       "      <td>Fair</td>\n",
       "      <td>5</td>\n",
       "      <td>1</td>\n",
       "      <td>67.0</td>\n",
       "      <td>53.0</td>\n",
       "      <td>6.19</td>\n",
       "      <td>6.13</td>\n",
       "      <td>4.13</td>\n",
       "    </tr>\n",
       "    <tr>\n",
       "      <th>3</th>\n",
       "      <td>3</td>\n",
       "      <td>1.00</td>\n",
       "      <td>Fair</td>\n",
       "      <td>2</td>\n",
       "      <td>1</td>\n",
       "      <td>66.5</td>\n",
       "      <td>62.0</td>\n",
       "      <td>6.19</td>\n",
       "      <td>6.10</td>\n",
       "      <td>4.09</td>\n",
       "    </tr>\n",
       "    <tr>\n",
       "      <th>4</th>\n",
       "      <td>4</td>\n",
       "      <td>1.20</td>\n",
       "      <td>Very Good</td>\n",
       "      <td>1</td>\n",
       "      <td>2</td>\n",
       "      <td>62.6</td>\n",
       "      <td>57.0</td>\n",
       "      <td>6.74</td>\n",
       "      <td>6.77</td>\n",
       "      <td>4.23</td>\n",
       "    </tr>\n",
       "    <tr>\n",
       "      <th>...</th>\n",
       "      <td>...</td>\n",
       "      <td>...</td>\n",
       "      <td>...</td>\n",
       "      <td>...</td>\n",
       "      <td>...</td>\n",
       "      <td>...</td>\n",
       "      <td>...</td>\n",
       "      <td>...</td>\n",
       "      <td>...</td>\n",
       "      <td>...</td>\n",
       "    </tr>\n",
       "    <tr>\n",
       "      <th>13480</th>\n",
       "      <td>13480</td>\n",
       "      <td>1.00</td>\n",
       "      <td>Premium</td>\n",
       "      <td>4</td>\n",
       "      <td>5</td>\n",
       "      <td>61.5</td>\n",
       "      <td>59.0</td>\n",
       "      <td>6.40</td>\n",
       "      <td>6.38</td>\n",
       "      <td>3.93</td>\n",
       "    </tr>\n",
       "    <tr>\n",
       "      <th>13481</th>\n",
       "      <td>13481</td>\n",
       "      <td>2.12</td>\n",
       "      <td>Premium</td>\n",
       "      <td>1</td>\n",
       "      <td>1</td>\n",
       "      <td>60.6</td>\n",
       "      <td>59.0</td>\n",
       "      <td>8.30</td>\n",
       "      <td>8.27</td>\n",
       "      <td>5.02</td>\n",
       "    </tr>\n",
       "    <tr>\n",
       "      <th>13482</th>\n",
       "      <td>13482</td>\n",
       "      <td>1.10</td>\n",
       "      <td>Ideal</td>\n",
       "      <td>4</td>\n",
       "      <td>3</td>\n",
       "      <td>60.7</td>\n",
       "      <td>57.0</td>\n",
       "      <td>6.66</td>\n",
       "      <td>6.70</td>\n",
       "      <td>4.05</td>\n",
       "    </tr>\n",
       "    <tr>\n",
       "      <th>13483</th>\n",
       "      <td>13483</td>\n",
       "      <td>0.34</td>\n",
       "      <td>Good</td>\n",
       "      <td>1</td>\n",
       "      <td>5</td>\n",
       "      <td>63.1</td>\n",
       "      <td>56.0</td>\n",
       "      <td>4.43</td>\n",
       "      <td>4.47</td>\n",
       "      <td>2.81</td>\n",
       "    </tr>\n",
       "    <tr>\n",
       "      <th>13484</th>\n",
       "      <td>13484</td>\n",
       "      <td>0.37</td>\n",
       "      <td>Ideal</td>\n",
       "      <td>3</td>\n",
       "      <td>8</td>\n",
       "      <td>61.4</td>\n",
       "      <td>55.0</td>\n",
       "      <td>4.63</td>\n",
       "      <td>4.66</td>\n",
       "      <td>2.85</td>\n",
       "    </tr>\n",
       "  </tbody>\n",
       "</table>\n",
       "<p>13485 rows × 10 columns</p>\n",
       "</div>"
      ],
      "text/plain": [
       "          id  carat        cut  color  clarity  depth  table     x     y     z\n",
       "0          0   1.00       Fair      0        1   56.3   64.0  6.58  6.54  3.69\n",
       "1          1   0.83    Premium      3        2   62.3   58.0  6.01  5.97  3.73\n",
       "2          2   1.00       Fair      5        1   67.0   53.0  6.19  6.13  4.13\n",
       "3          3   1.00       Fair      2        1   66.5   62.0  6.19  6.10  4.09\n",
       "4          4   1.20  Very Good      1        2   62.6   57.0  6.74  6.77  4.23\n",
       "...      ...    ...        ...    ...      ...    ...    ...   ...   ...   ...\n",
       "13480  13480   1.00    Premium      4        5   61.5   59.0  6.40  6.38  3.93\n",
       "13481  13481   2.12    Premium      1        1   60.6   59.0  8.30  8.27  5.02\n",
       "13482  13482   1.10      Ideal      4        3   60.7   57.0  6.66  6.70  4.05\n",
       "13483  13483   0.34       Good      1        5   63.1   56.0  4.43  4.47  2.81\n",
       "13484  13484   0.37      Ideal      3        8   61.4   55.0  4.63  4.66  2.85\n",
       "\n",
       "[13485 rows x 10 columns]"
      ]
     },
     "execution_count": 27,
     "metadata": {},
     "output_type": "execute_result"
    }
   ],
   "source": [
    "df_diamonds_test"
   ]
  },
  {
   "cell_type": "code",
   "execution_count": 28,
   "id": "f1b81da9",
   "metadata": {},
   "outputs": [
    {
     "data": {
      "text/html": [
       "<div>\n",
       "<style scoped>\n",
       "    .dataframe tbody tr th:only-of-type {\n",
       "        vertical-align: middle;\n",
       "    }\n",
       "\n",
       "    .dataframe tbody tr th {\n",
       "        vertical-align: top;\n",
       "    }\n",
       "\n",
       "    .dataframe thead th {\n",
       "        text-align: right;\n",
       "    }\n",
       "</style>\n",
       "<table border=\"1\" class=\"dataframe\">\n",
       "  <thead>\n",
       "    <tr style=\"text-align: right;\">\n",
       "      <th></th>\n",
       "      <th>carat</th>\n",
       "      <th>color</th>\n",
       "      <th>clarity</th>\n",
       "      <th>depth</th>\n",
       "      <th>x</th>\n",
       "      <th>y</th>\n",
       "      <th>z</th>\n",
       "    </tr>\n",
       "  </thead>\n",
       "  <tbody>\n",
       "    <tr>\n",
       "      <th>10645</th>\n",
       "      <td>0.053488</td>\n",
       "      <td>0.500000</td>\n",
       "      <td>1.000</td>\n",
       "      <td>0.491429</td>\n",
       "      <td>0.470186</td>\n",
       "      <td>0.082513</td>\n",
       "      <td>0.093082</td>\n",
       "    </tr>\n",
       "    <tr>\n",
       "      <th>8074</th>\n",
       "      <td>0.076744</td>\n",
       "      <td>0.833333</td>\n",
       "      <td>0.375</td>\n",
       "      <td>0.454286</td>\n",
       "      <td>0.518084</td>\n",
       "      <td>0.089134</td>\n",
       "      <td>0.099371</td>\n",
       "    </tr>\n",
       "    <tr>\n",
       "      <th>4589</th>\n",
       "      <td>0.186047</td>\n",
       "      <td>0.166667</td>\n",
       "      <td>0.250</td>\n",
       "      <td>0.354286</td>\n",
       "      <td>0.643206</td>\n",
       "      <td>0.111205</td>\n",
       "      <td>0.116352</td>\n",
       "    </tr>\n",
       "  </tbody>\n",
       "</table>\n",
       "</div>"
      ],
      "text/plain": [
       "          carat     color  clarity     depth         x         y         z\n",
       "10645  0.053488  0.500000    1.000  0.491429  0.470186  0.082513  0.093082\n",
       "8074   0.076744  0.833333    0.375  0.454286  0.518084  0.089134  0.099371\n",
       "4589   0.186047  0.166667    0.250  0.354286  0.643206  0.111205  0.116352"
      ]
     },
     "execution_count": 28,
     "metadata": {},
     "output_type": "execute_result"
    }
   ],
   "source": [
    "#### TEST DATA\n",
    "df_diamonds_test.drop(columns=['id','cut','table'],axis=1,inplace=True)\n",
    "df_test_scaled = min_max.fit_transform(df_diamonds_test)\n",
    "df_test_scaled = pd.DataFrame(df_test_scaled)\n",
    "col_names2 = list(df_diamonds_test.columns)\n",
    "df_test_scaled.set_axis(col_names2, axis=1,inplace=True)\n",
    "df_test_scaled.sample(3)"
   ]
  },
  {
   "cell_type": "code",
   "execution_count": 29,
   "id": "0ae25469",
   "metadata": {},
   "outputs": [],
   "source": [
    "X = df_diamonds_scaled.drop(columns=['cut','table'])\n",
    "#X = df_diamonds_scaled\n",
    "y = df_diamonds.price"
   ]
  },
  {
   "cell_type": "code",
   "execution_count": 30,
   "id": "671294ac",
   "metadata": {},
   "outputs": [
    {
     "name": "stdout",
     "output_type": "stream",
     "text": [
      "(32364, 7)\n",
      "(32364,)\n",
      "(8091, 7)\n",
      "(8091,)\n"
     ]
    }
   ],
   "source": [
    "X_train, X_test, y_train, y_test = train_test_split(X,y, test_size=.2)\n",
    "print(X_train.shape)\n",
    "print(y_train.shape)\n",
    "print(X_test.shape)\n",
    "print(y_test.shape)"
   ]
  },
  {
   "cell_type": "code",
   "execution_count": 31,
   "id": "9f15b719",
   "metadata": {},
   "outputs": [],
   "source": [
    "models={\n",
    "    'linreg': LinearRegression(),\n",
    "    'ridge': Ridge(),\n",
    "    'lasso': Lasso(max_iter=5000),\n",
    "    'en': ElasticNet(),\n",
    "    'knn': KNeighborsRegressor(),\n",
    "    'grad': GradientBoostingRegressor(),\n",
    "    'dtr': DecisionTreeRegressor(),\n",
    "    'rfr': RandomForestRegressor(n_estimators=1600,bootstrap=True, max_depth=None,\n",
    "                                 max_features='auto',min_samples_leaf=2,\n",
    "                                 min_samples_split=10)}"
   ]
  },
  {
   "cell_type": "code",
   "execution_count": 32,
   "id": "fa7fd405",
   "metadata": {},
   "outputs": [
    {
     "name": "stdout",
     "output_type": "stream",
     "text": [
      "train:  linreg\n",
      "train:  ridge\n",
      "train:  lasso\n",
      "train:  en\n",
      "train:  knn\n",
      "train:  grad\n",
      "train:  dtr\n",
      "train:  rfr\n"
     ]
    }
   ],
   "source": [
    "for name,model in models.items():\n",
    "    print('train: ', name)\n",
    "    model.fit(X_train, y_train)"
   ]
  },
  {
   "cell_type": "code",
   "execution_count": 33,
   "id": "b071db94",
   "metadata": {},
   "outputs": [
    {
     "name": "stdout",
     "output_type": "stream",
     "text": [
      "------linreg------\n",
      "RMSE 1247.65\n",
      "%RMSE 31.79\n",
      "R2 0.9\n",
      "------ridge------\n",
      "RMSE 1246.18\n",
      "%RMSE 31.75\n",
      "R2 0.9\n",
      "------lasso------\n",
      "RMSE 1247.63\n",
      "%RMSE 31.79\n",
      "R2 0.9\n",
      "------en------\n",
      "RMSE 3792.33\n",
      "%RMSE 96.17\n",
      "R2 0.1\n",
      "------knn------\n",
      "RMSE 637.94\n",
      "%RMSE 16.22\n",
      "R2 0.97\n",
      "------grad------\n",
      "RMSE 627.34\n",
      "%RMSE 15.99\n",
      "R2 0.98\n",
      "------dtr------\n",
      "RMSE 744.02\n",
      "%RMSE 18.97\n",
      "R2 0.97\n",
      "------rfr------\n",
      "RMSE 552.15\n",
      "%RMSE 14.07\n",
      "R2 0.98\n"
     ]
    }
   ],
   "source": [
    "for name,model in models.items():\n",
    "    y_pred = model.predict(X_test)\n",
    "    print(f\"------{name}------\")\n",
    "#    print('MEAN',round(y_pred.mean(),3))\n",
    "    print('RMSE', round(np.sqrt(metrics.mean_squared_error(y_test, y_pred)),2))\n",
    "    print('%RMSE', round(np.sqrt(metrics.mean_squared_error(y_test, y_pred))/y_pred.mean()*100,2))\n",
    "    print('R2', round(metrics.r2_score(y_test, y_pred),2))"
   ]
  },
  {
   "cell_type": "code",
   "execution_count": 34,
   "id": "39381fc1",
   "metadata": {},
   "outputs": [
    {
     "data": {
      "image/png": "[encoded data removed]",
      "text/plain": [
       "<Figure size 432x288 with 1 Axes>"
      ]
     },
     "metadata": {},
     "output_type": "display_data"
    }
   ],
   "source": [
    "plt.scatter(y_test,y_pred)\n",
    "plt.show()"
   ]
  },
  {
   "cell_type": "code",
   "execution_count": 35,
   "id": "0ad4ff47",
   "metadata": {},
   "outputs": [],
   "source": [
    "### Gradient Boosting Regressor\n",
    "\n",
    "#test = SelectKBest(score_func=chi2, k='all')\n",
    "#fit = test.fit(X,y)\n",
    "#features = fit.transform(X)\n",
    "#model = GradientBoostingRegressor()\n",
    "#rfe = RFE(model)\n",
    "#fit = rfe.fit(X,y)\n",
    "#print(\"Num Features: %s\" % (fit.n_features_))\n",
    "#print(\"Selected Features: %s\" % (fit.support_))\n",
    "#print(\"Feature Ranking: %s\" % (fit.ranking_))"
   ]
  },
  {
   "cell_type": "code",
   "execution_count": 36,
   "id": "341bed4d",
   "metadata": {},
   "outputs": [],
   "source": [
    "### DecisionTreeRegressor\n",
    "\n",
    "#test = SelectKBest(score_func=chi2, k='all')\n",
    "#fit = test.fit(X,y)\n",
    "#features = fit.transform(X)\n",
    "#model = DecisionTreeRegressor()\n",
    "#rfe = RFE(model)\n",
    "#fit = rfe.fit(X,y)\n",
    "#print(\"Num Features: %s\" % (fit.n_features_))\n",
    "#print(\"Selected Features: %s\" % (fit.support_))\n",
    "#print(\"Feature Ranking: %s\" % (fit.ranking_))"
   ]
  },
  {
   "cell_type": "code",
   "execution_count": 37,
   "id": "ad91e081",
   "metadata": {},
   "outputs": [
    {
     "name": "stdout",
     "output_type": "stream",
     "text": [
      "Num Features: 3\n",
      "Selected Features: [ True False  True False False  True False]\n",
      "Feature Ranking: [1 2 1 5 4 1 3]\n"
     ]
    }
   ],
   "source": [
    "### RandomForestRegressor\n",
    "\n",
    "test = SelectKBest(score_func=chi2, k='all')\n",
    "fit = test.fit(X,y)\n",
    "features = fit.transform(X)\n",
    "model = RandomForestRegressor()\n",
    "rfe = RFE(model)\n",
    "fit = rfe.fit(X,y)\n",
    "print(\"Num Features: %s\" % (fit.n_features_))\n",
    "print(\"Selected Features: %s\" % (fit.support_))\n",
    "print(\"Feature Ranking: %s\" % (fit.ranking_))"
   ]
  },
  {
   "cell_type": "code",
   "execution_count": 38,
   "id": "a43661b4",
   "metadata": {},
   "outputs": [
    {
     "data": {
      "text/plain": [
       "['carat', 'color', 'clarity', 'depth', 'x', 'y', 'z']"
      ]
     },
     "execution_count": 38,
     "metadata": {},
     "output_type": "execute_result"
    }
   ],
   "source": [
    "list(X.columns)"
   ]
  },
  {
   "cell_type": "code",
   "execution_count": 39,
   "id": "dae67c25",
   "metadata": {},
   "outputs": [
    {
     "name": "stdout",
     "output_type": "stream",
     "text": [
      "Parameters currently in use:\n",
      "\n",
      "{'bootstrap': True,\n",
      " 'ccp_alpha': 0.0,\n",
      " 'criterion': 'squared_error',\n",
      " 'max_depth': None,\n",
      " 'max_features': 'auto',\n",
      " 'max_leaf_nodes': None,\n",
      " 'max_samples': None,\n",
      " 'min_impurity_decrease': 0.0,\n",
      " 'min_samples_leaf': 1,\n",
      " 'min_samples_split': 2,\n",
      " 'min_weight_fraction_leaf': 0.0,\n",
      " 'n_estimators': 100,\n",
      " 'n_jobs': None,\n",
      " 'oob_score': False,\n",
      " 'random_state': 42,\n",
      " 'verbose': 0,\n",
      " 'warm_start': False}\n"
     ]
    }
   ],
   "source": [
    "rf = RandomForestRegressor(random_state = 42)\n",
    "from pprint import pprint\n",
    "print('Parameters currently in use:\\n')\n",
    "pprint(rf.get_params())"
   ]
  },
  {
   "cell_type": "code",
   "execution_count": 40,
   "id": "fe3b5156",
   "metadata": {},
   "outputs": [
    {
     "name": "stdout",
     "output_type": "stream",
     "text": [
      "{'bootstrap': [True, False],\n",
      " 'max_depth': [10, 20, 30, 40, 50, 60, 70, 80, 90, 100, 110, None],\n",
      " 'max_features': ['auto', 'sqrt'],\n",
      " 'min_samples_leaf': [1, 2, 4],\n",
      " 'min_samples_split': [2, 5, 10],\n",
      " 'n_estimators': [200, 400, 600, 800, 1000, 1200, 1400, 1600, 1800, 2000]}\n"
     ]
    }
   ],
   "source": [
    "# Number of trees in random forest\n",
    "n_estimators = [int(x) for x in np.linspace(start = 200, stop = 2000, num = 10)]\n",
    "# Number of features to consider at every split\n",
    "max_features = ['auto', 'sqrt']\n",
    "# Maximum number of levels in tree\n",
    "max_depth = [int(x) for x in np.linspace(10, 110, num = 11)]\n",
    "max_depth.append(None)\n",
    "# Minimum number of samples required to split a node\n",
    "min_samples_split = [2, 5, 10]\n",
    "# Minimum number of samples required at each leaf node\n",
    "min_samples_leaf = [1, 2, 4]\n",
    "# Method of selecting samples for training each tree\n",
    "bootstrap = [True, False]\n",
    "# Create the random grid\n",
    "random_grid = {'n_estimators': n_estimators,\n",
    "               'max_features': max_features,\n",
    "               'max_depth': max_depth,\n",
    "               'min_samples_split': min_samples_split,\n",
    "               'min_samples_leaf': min_samples_leaf,\n",
    "               'bootstrap': bootstrap}\n",
    "pprint(random_grid)"
   ]
  },
  {
   "cell_type": "code",
   "execution_count": 41,
   "id": "6a1b8f3c",
   "metadata": {},
   "outputs": [],
   "source": [
    "# Use the random grid to search for best hyperparameters\n",
    "# First create the base model to tune\n",
    "#rf = RandomForestRegressor()\n",
    "# Random search of parameters, using 3 fold cross validation, \n",
    "# search across 100 different combinations, and use all available cores\n",
    "#rf_random = RandomizedSearchCV(estimator = rf, param_distributions = random_grid, n_iter = 100, cv = 3, verbose=2, random_state=42, n_jobs = -1)\n",
    "# Fit the random search model\n",
    "#rf_random.fit(X_train, y_train)"
   ]
  },
  {
   "cell_type": "code",
   "execution_count": 42,
   "id": "f61b807b",
   "metadata": {},
   "outputs": [],
   "source": [
    "#pprint(rf_random.best_params_)"
   ]
  },
  {
   "cell_type": "code",
   "execution_count": 43,
   "id": "6c23180b",
   "metadata": {},
   "outputs": [],
   "source": [
    "X = df_diamonds_scaled.drop(columns=['cut','table'])\n",
    "y = df_diamonds.price\n",
    "X_train, X_test, y_train, y_test = train_test_split(X,y, test_size=.2)"
   ]
  },
  {
   "cell_type": "code",
   "execution_count": 44,
   "id": "4e088ffa",
   "metadata": {},
   "outputs": [],
   "source": [
    "rfr = RandomForestRegressor(n_estimators=1600,bootstrap=True, max_depth=None,\n",
    "                                 max_features='auto',min_samples_leaf=2,\n",
    "                                 min_samples_split=10)"
   ]
  },
  {
   "cell_type": "code",
   "execution_count": 45,
   "id": "4bec7713",
   "metadata": {},
   "outputs": [
    {
     "data": {
      "text/plain": [
       "RandomForestRegressor(min_samples_leaf=2, min_samples_split=10,\n",
       "                      n_estimators=1600)"
      ]
     },
     "execution_count": 45,
     "metadata": {},
     "output_type": "execute_result"
    }
   ],
   "source": [
    "rfr.fit(X_train,y_train)"
   ]
  },
  {
   "cell_type": "code",
   "execution_count": 46,
   "id": "adda60fb",
   "metadata": {},
   "outputs": [],
   "source": [
    "y_pred = rfr.predict(X_test)"
   ]
  },
  {
   "cell_type": "code",
   "execution_count": 47,
   "id": "f5b4368d",
   "metadata": {},
   "outputs": [
    {
     "name": "stdout",
     "output_type": "stream",
     "text": [
      "RMSE 549.43\n",
      "%RMSE 14.06\n",
      "R2 0.98\n"
     ]
    }
   ],
   "source": [
    "print('RMSE', round(np.sqrt(metrics.mean_squared_error(y_test, y_pred)),2))\n",
    "print('%RMSE', round(np.sqrt(metrics.mean_squared_error(y_test, y_pred))/y_pred.mean()*100,2))\n",
    "print('R2', round(metrics.r2_score(y_test, y_pred),2))"
   ]
  },
  {
   "cell_type": "code",
   "execution_count": 48,
   "id": "fa1dd4c9",
   "metadata": {},
   "outputs": [],
   "source": [
    "y_pred_train = rfr.predict(X_train)"
   ]
  },
  {
   "cell_type": "code",
   "execution_count": 49,
   "id": "4408ce2e",
   "metadata": {},
   "outputs": [
    {
     "name": "stdout",
     "output_type": "stream",
     "text": [
      "RMSE 360.64\n",
      "%RMSE 9.14\n",
      "R2 0.99\n"
     ]
    }
   ],
   "source": [
    "print('RMSE', round(np.sqrt(metrics.mean_squared_error(y_train, y_pred_train)),2))\n",
    "print('%RMSE', round(np.sqrt(metrics.mean_squared_error(y_train, y_pred_train))/y_pred_train.mean()*100,2))\n",
    "print('R2', round(metrics.r2_score(y_train, y_pred_train),2))"
   ]
  },
  {
   "cell_type": "code",
   "execution_count": null,
   "id": "a5cc00a1",
   "metadata": {},
   "outputs": [],
   "source": []
  },
  {
   "cell_type": "code",
   "execution_count": null,
   "id": "5a963453",
   "metadata": {},
   "outputs": [],
   "source": []
  },
  {
   "cell_type": "code",
   "execution_count": null,
   "id": "97f70e6b",
   "metadata": {},
   "outputs": [],
   "source": []
  },
  {
   "cell_type": "code",
   "execution_count": null,
   "id": "8ea3b98e",
   "metadata": {},
   "outputs": [],
   "source": []
  },
  {
   "cell_type": "code",
   "execution_count": null,
   "id": "28c28572",
   "metadata": {},
   "outputs": [],
   "source": []
  },
  {
   "cell_type": "code",
   "execution_count": null,
   "id": "2b5827f7",
   "metadata": {},
   "outputs": [],
   "source": []
  },
  {
   "cell_type": "code",
   "execution_count": 50,
   "id": "98646f67",
   "metadata": {},
   "outputs": [],
   "source": [
    "#### train with all data ####"
   ]
  },
  {
   "cell_type": "code",
   "execution_count": 51,
   "id": "ceebeb69",
   "metadata": {},
   "outputs": [
    {
     "data": {
      "text/plain": [
       "RandomForestRegressor(min_samples_leaf=2, min_samples_split=10,\n",
       "                      n_estimators=1600)"
      ]
     },
     "execution_count": 51,
     "metadata": {},
     "output_type": "execute_result"
    }
   ],
   "source": [
    "rfr.fit(X,y)"
   ]
  },
  {
   "cell_type": "code",
   "execution_count": 59,
   "id": "752d61df",
   "metadata": {},
   "outputs": [
    {
     "data": {
      "text/html": [
       "<div>\n",
       "<style scoped>\n",
       "    .dataframe tbody tr th:only-of-type {\n",
       "        vertical-align: middle;\n",
       "    }\n",
       "\n",
       "    .dataframe tbody tr th {\n",
       "        vertical-align: top;\n",
       "    }\n",
       "\n",
       "    .dataframe thead th {\n",
       "        text-align: right;\n",
       "    }\n",
       "</style>\n",
       "<table border=\"1\" class=\"dataframe\">\n",
       "  <thead>\n",
       "    <tr style=\"text-align: right;\">\n",
       "      <th></th>\n",
       "      <th>carat</th>\n",
       "      <th>color</th>\n",
       "      <th>clarity</th>\n",
       "      <th>depth</th>\n",
       "      <th>x</th>\n",
       "      <th>y</th>\n",
       "      <th>z</th>\n",
       "    </tr>\n",
       "  </thead>\n",
       "  <tbody>\n",
       "    <tr>\n",
       "      <th>0</th>\n",
       "      <td>0.186047</td>\n",
       "      <td>0.000000</td>\n",
       "      <td>0.125</td>\n",
       "      <td>0.351429</td>\n",
       "      <td>0.643206</td>\n",
       "      <td>0.111036</td>\n",
       "      <td>0.116038</td>\n",
       "    </tr>\n",
       "    <tr>\n",
       "      <th>1</th>\n",
       "      <td>0.146512</td>\n",
       "      <td>0.500000</td>\n",
       "      <td>0.250</td>\n",
       "      <td>0.522857</td>\n",
       "      <td>0.587488</td>\n",
       "      <td>0.101358</td>\n",
       "      <td>0.117296</td>\n",
       "    </tr>\n",
       "    <tr>\n",
       "      <th>2</th>\n",
       "      <td>0.186047</td>\n",
       "      <td>0.833333</td>\n",
       "      <td>0.125</td>\n",
       "      <td>0.657143</td>\n",
       "      <td>0.605083</td>\n",
       "      <td>0.104075</td>\n",
       "      <td>0.129874</td>\n",
       "    </tr>\n",
       "  </tbody>\n",
       "</table>\n",
       "</div>"
      ],
      "text/plain": [
       "      carat     color  clarity     depth         x         y         z\n",
       "0  0.186047  0.000000    0.125  0.351429  0.643206  0.111036  0.116038\n",
       "1  0.146512  0.500000    0.250  0.522857  0.587488  0.101358  0.117296\n",
       "2  0.186047  0.833333    0.125  0.657143  0.605083  0.104075  0.129874"
      ]
     },
     "execution_count": 59,
     "metadata": {},
     "output_type": "execute_result"
    }
   ],
   "source": [
    "df_test_scaled.head(3)"
   ]
  },
  {
   "cell_type": "code",
   "execution_count": 53,
   "id": "f3b9b3e8",
   "metadata": {},
   "outputs": [
    {
     "data": {
      "text/html": [
       "<div>\n",
       "<style scoped>\n",
       "    .dataframe tbody tr th:only-of-type {\n",
       "        vertical-align: middle;\n",
       "    }\n",
       "\n",
       "    .dataframe tbody tr th {\n",
       "        vertical-align: top;\n",
       "    }\n",
       "\n",
       "    .dataframe thead th {\n",
       "        text-align: right;\n",
       "    }\n",
       "</style>\n",
       "<table border=\"1\" class=\"dataframe\">\n",
       "  <thead>\n",
       "    <tr style=\"text-align: right;\">\n",
       "      <th></th>\n",
       "      <th>carat</th>\n",
       "      <th>color</th>\n",
       "      <th>clarity</th>\n",
       "      <th>depth</th>\n",
       "      <th>x</th>\n",
       "      <th>y</th>\n",
       "      <th>z</th>\n",
       "    </tr>\n",
       "  </thead>\n",
       "  <tbody>\n",
       "    <tr>\n",
       "      <th>0</th>\n",
       "      <td>0.195426</td>\n",
       "      <td>0.500000</td>\n",
       "      <td>0.625</td>\n",
       "      <td>0.500000</td>\n",
       "      <td>0.627561</td>\n",
       "      <td>0.212579</td>\n",
       "      <td>0.590258</td>\n",
       "    </tr>\n",
       "    <tr>\n",
       "      <th>1</th>\n",
       "      <td>0.116424</td>\n",
       "      <td>0.333333</td>\n",
       "      <td>0.375</td>\n",
       "      <td>0.547222</td>\n",
       "      <td>0.545624</td>\n",
       "      <td>0.183019</td>\n",
       "      <td>0.524355</td>\n",
       "    </tr>\n",
       "    <tr>\n",
       "      <th>2</th>\n",
       "      <td>0.133056</td>\n",
       "      <td>0.500000</td>\n",
       "      <td>0.500</td>\n",
       "      <td>0.511111</td>\n",
       "      <td>0.562384</td>\n",
       "      <td>0.193396</td>\n",
       "      <td>0.535817</td>\n",
       "    </tr>\n",
       "  </tbody>\n",
       "</table>\n",
       "</div>"
      ],
      "text/plain": [
       "      carat     color  clarity     depth         x         y         z\n",
       "0  0.195426  0.500000    0.625  0.500000  0.627561  0.212579  0.590258\n",
       "1  0.116424  0.333333    0.375  0.547222  0.545624  0.183019  0.524355\n",
       "2  0.133056  0.500000    0.500  0.511111  0.562384  0.193396  0.535817"
      ]
     },
     "execution_count": 53,
     "metadata": {},
     "output_type": "execute_result"
    }
   ],
   "source": [
    "X.head(3)"
   ]
  },
  {
   "cell_type": "code",
   "execution_count": 60,
   "id": "d6d6f3db",
   "metadata": {},
   "outputs": [],
   "source": [
    "price = rfr.predict(df_test_scaled)"
   ]
  },
  {
   "cell_type": "code",
   "execution_count": 68,
   "id": "8b0e92bc",
   "metadata": {},
   "outputs": [
    {
     "data": {
      "text/html": [
       "<div>\n",
       "<style scoped>\n",
       "    .dataframe tbody tr th:only-of-type {\n",
       "        vertical-align: middle;\n",
       "    }\n",
       "\n",
       "    .dataframe tbody tr th {\n",
       "        vertical-align: top;\n",
       "    }\n",
       "\n",
       "    .dataframe thead th {\n",
       "        text-align: right;\n",
       "    }\n",
       "</style>\n",
       "<table border=\"1\" class=\"dataframe\">\n",
       "  <thead>\n",
       "    <tr style=\"text-align: right;\">\n",
       "      <th></th>\n",
       "      <th>id</th>\n",
       "      <th>price</th>\n",
       "    </tr>\n",
       "  </thead>\n",
       "  <tbody>\n",
       "    <tr>\n",
       "      <th>0</th>\n",
       "      <td>0</td>\n",
       "      <td>3218.918347</td>\n",
       "    </tr>\n",
       "    <tr>\n",
       "      <th>1</th>\n",
       "      <td>1</td>\n",
       "      <td>2304.469527</td>\n",
       "    </tr>\n",
       "    <tr>\n",
       "      <th>2</th>\n",
       "      <td>2</td>\n",
       "      <td>3682.063152</td>\n",
       "    </tr>\n",
       "    <tr>\n",
       "      <th>3</th>\n",
       "      <td>3</td>\n",
       "      <td>3160.643560</td>\n",
       "    </tr>\n",
       "    <tr>\n",
       "      <th>4</th>\n",
       "      <td>4</td>\n",
       "      <td>5518.691808</td>\n",
       "    </tr>\n",
       "  </tbody>\n",
       "</table>\n",
       "</div>"
      ],
      "text/plain": [
       "   id        price\n",
       "0   0  3218.918347\n",
       "1   1  2304.469527\n",
       "2   2  3682.063152\n",
       "3   3  3160.643560\n",
       "4   4  5518.691808"
      ]
     },
     "execution_count": 68,
     "metadata": {},
     "output_type": "execute_result"
    }
   ],
   "source": [
    "price = pd.DataFrame(price)\n",
    "price['id'] = price.index\n",
    "price.rename({0:'price'},axis='columns',inplace=True)\n",
    "price = price[['id','price']]\n",
    "price.head()"
   ]
  },
  {
   "cell_type": "code",
   "execution_count": 69,
   "id": "92585622",
   "metadata": {},
   "outputs": [
    {
     "data": {
      "text/plain": [
       "(13485, 2)"
      ]
     },
     "execution_count": 69,
     "metadata": {},
     "output_type": "execute_result"
    }
   ],
   "source": [
    "price.shape"
   ]
  },
  {
   "cell_type": "code",
   "execution_count": 70,
   "id": "4a4fecf9",
   "metadata": {},
   "outputs": [],
   "source": [
    "price.to_csv('data/price.csv',index=False)"
   ]
  }
 ],
 "metadata": {
  "kernelspec": {
   "display_name": "ironhack",
   "language": "python",
   "name": "ironhack"
  },
  "language_info": {
   "codemirror_mode": {
    "name": "ipython",
    "version": 3
   },
   "file_extension": ".py",
   "mimetype": "text/x-python",
   "name": "python",
   "nbconvert_exporter": "python",
   "pygments_lexer": "ipython3",
   "version": "3.9.7"
  }
 },
 "nbformat": 4,
 "nbformat_minor": 5
}
