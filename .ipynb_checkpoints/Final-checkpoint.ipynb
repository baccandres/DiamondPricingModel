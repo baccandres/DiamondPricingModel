{
 "cells": [
  {
   "cell_type": "markdown",
   "id": "7d6a502e",
   "metadata": {},
   "source": [
    "# Predicting Diamonds Price"
   ]
  },
  {
   "cell_type": "markdown",
   "id": "ed845fb9",
   "metadata": {},
   "source": [
    "## Import Data and Libraries"
   ]
  },
  {
   "cell_type": "code",
   "execution_count": 68,
   "id": "083c73e8",
   "metadata": {},
   "outputs": [],
   "source": [
    "import numpy as np\n",
    "import pandas as pd\n",
    "import seaborn as sns\n",
    "import matplotlib.pyplot as plt\n",
    "from pprint import pprint"
   ]
  },
  {
   "cell_type": "code",
   "execution_count": 76,
   "id": "a6e72731",
   "metadata": {},
   "outputs": [],
   "source": [
    "from sklearn.model_selection import train_test_split,cross_val_score, GridSearchCV, RandomizedSearchCV, KFold\n",
    "from sklearn.linear_model import LinearRegression, Ridge, Lasso, SGDRegressor, ElasticNet\n",
    "from sklearn.ensemble import GradientBoostingRegressor, RandomForestRegressor\n",
    "from sklearn.neighbors import KNeighborsRegressor\n",
    "from sklearn.tree import DecisionTreeRegressor\n",
    "from sklearn import metrics\n",
    "from sklearn.feature_selection import SelectKBest, chi2, RFE"
   ]
  },
  {
   "cell_type": "code",
   "execution_count": 2,
   "id": "8eb3ffc2",
   "metadata": {},
   "outputs": [],
   "source": [
    "train = pd.read_csv('data/train.csv')\n",
    "test = pd.read_csv('data/test.csv')"
   ]
  },
  {
   "cell_type": "markdown",
   "id": "732f0f07",
   "metadata": {},
   "source": [
    "## Exploratory Data Analysis and Cleaning"
   ]
  },
  {
   "cell_type": "code",
   "execution_count": 38,
   "id": "61fbf77e",
   "metadata": {},
   "outputs": [
    {
     "name": "stdout",
     "output_type": "stream",
     "text": [
      "(40455, 11)\n",
      "(13485, 10)\n"
     ]
    }
   ],
   "source": [
    "print(train.shape)\n",
    "print(test.shape)"
   ]
  },
  {
   "cell_type": "code",
   "execution_count": 39,
   "id": "24411621",
   "metadata": {},
   "outputs": [
    {
     "name": "stdout",
     "output_type": "stream",
     "text": [
      "0\n",
      "0\n"
     ]
    }
   ],
   "source": [
    "print(train.duplicated().sum())\n",
    "print(test.duplicated().sum())"
   ]
  },
  {
   "cell_type": "code",
   "execution_count": 5,
   "id": "9cbde20b",
   "metadata": {},
   "outputs": [
    {
     "data": {
      "text/plain": [
       "id         0\n",
       "carat      0\n",
       "cut        0\n",
       "color      0\n",
       "clarity    0\n",
       "depth      0\n",
       "table      0\n",
       "x          0\n",
       "y          0\n",
       "z          0\n",
       "price      0\n",
       "dtype: int64"
      ]
     },
     "execution_count": 5,
     "metadata": {},
     "output_type": "execute_result"
    }
   ],
   "source": [
    "train.isnull().sum()"
   ]
  },
  {
   "cell_type": "code",
   "execution_count": 6,
   "id": "c37cf0f8",
   "metadata": {},
   "outputs": [
    {
     "data": {
      "text/plain": [
       "id           int64\n",
       "carat      float64\n",
       "cut         object\n",
       "color       object\n",
       "clarity     object\n",
       "depth      float64\n",
       "table      float64\n",
       "x          float64\n",
       "y          float64\n",
       "z          float64\n",
       "price        int64\n",
       "dtype: object"
      ]
     },
     "execution_count": 6,
     "metadata": {},
     "output_type": "execute_result"
    }
   ],
   "source": [
    "train.dtypes"
   ]
  },
  {
   "cell_type": "markdown",
   "id": "c4a68bdb",
   "metadata": {},
   "source": [
    "#### Scale Categorical Data"
   ]
  },
  {
   "cell_type": "code",
   "execution_count": 7,
   "id": "37634ecf",
   "metadata": {},
   "outputs": [
    {
     "name": "stdout",
     "output_type": "stream",
     "text": [
      "{'Ideal', 'Premium', 'Fair', 'Very Good', 'Good'}\n",
      "{'Ideal', 'Premium', 'Fair', 'Very Good', 'Good'}\n",
      "{'I', 'E', 'H', 'G', 'D', 'J', 'F'}\n",
      "{'I', 'E', 'H', 'G', 'D', 'J', 'F'}\n",
      "{'SI2', 'VVS1', 'VS2', 'IF', 'I1', 'SI1', 'VS1', 'VVS2'}\n",
      "{'SI2', 'VVS2', 'VS2', 'IF', 'I1', 'SI1', 'VS1', 'VVS1'}\n"
     ]
    }
   ],
   "source": [
    "print(set(train.cut))\n",
    "print(set(test.cut))\n",
    "print(set(train.color))\n",
    "print(set(test.color))\n",
    "print(set(train.clarity))\n",
    "print(set(test.clarity))"
   ]
  },
  {
   "cell_type": "code",
   "execution_count": 8,
   "id": "354b47de",
   "metadata": {},
   "outputs": [],
   "source": [
    "train.cut.replace({'Ideal':5,'Premium':4,'Very Good':3,'Good':2,'Fair':1},inplace=True)\n",
    "train.color.replace({'D':0,'E':.5,'F':1,'G':1.5,'H':2,'I':2.5,'J':3}, inplace=True)\n",
    "train.clarity.replace({\"FL\":12, \"IF\":11, \"VVS1\":10, \"VVS2\":9, \"VS1\":8, \"VS2\":7, \"SI1\":6, \"SI2\":5, \"SI3\":4, \"I1\":3, \"I2\":2, \"I3\":1}, inplace=True)"
   ]
  },
  {
   "cell_type": "code",
   "execution_count": 17,
   "id": "06c8aece",
   "metadata": {},
   "outputs": [],
   "source": [
    "test.cut.replace({'Ideal':5,'Premium':4,'Very Good':3,'Good':2,'Fair':1},inplace=True)\n",
    "test.color.replace({'D':0,'E':.5,'F':1,'G':1.5,'H':2,'I':2.5,'J':3}, inplace=True)\n",
    "test.clarity.replace({\"FL\":12, \"IF\":11, \"VVS1\":10, \"VVS2\":9, \"VS1\":8, \"VS2\":7, \"SI1\":6, \"SI2\":5, \"SI3\":4, \"I1\":3, \"I2\":2, \"I3\":1}, inplace=True)"
   ]
  },
  {
   "cell_type": "code",
   "execution_count": 23,
   "id": "28ff5e65",
   "metadata": {},
   "outputs": [
    {
     "name": "stdout",
     "output_type": "stream",
     "text": [
      "[1, 2, 3, 4, 5]\n",
      "[1, 2, 3, 4, 5]\n",
      "[0.0, 0.5, 1.0, 1.5, 2.0, 2.5, 3.0]\n",
      "[0.0, 0.5, 1.0, 1.5, 2.0, 2.5, 3.0]\n",
      "[3, 5, 6, 7, 8, 9, 10, 11]\n",
      "[3, 5, 6, 7, 8, 9, 10, 11]\n"
     ]
    }
   ],
   "source": [
    "print(list(sorted(train.cut.unique())))\n",
    "print(list(sorted(test.cut.unique())))\n",
    "print(list(sorted(train.color.unique())))\n",
    "print(list(sorted(test.color.unique())))\n",
    "print(list(sorted(train.clarity.unique())))\n",
    "print(list(sorted(test.clarity.unique())))"
   ]
  },
  {
   "cell_type": "markdown",
   "id": "6c593fe7",
   "metadata": {},
   "source": [
    "#### Check Colinearity"
   ]
  },
  {
   "cell_type": "code",
   "execution_count": 24,
   "id": "6bf4d71b",
   "metadata": {},
   "outputs": [
    {
     "data": {
      "image/png": "[encoded data removed]",
      "text/plain": [
       "<Figure size 792x648 with 1 Axes>"
      ]
     },
     "metadata": {},
     "output_type": "display_data"
    }
   ],
   "source": [
    "df_correl = train.drop(columns='id')\n",
    "\n",
    "sns.set_theme(style=\"white\")\n",
    "corr = df_correl.corr()\n",
    "mask = np.triu(np.ones_like(corr, dtype=bool))\n",
    "f, ax = plt.subplots(figsize=(11, 9))\n",
    "cmap = sns.diverging_palette(230, 20, as_cmap=True)\n",
    "sns.heatmap(corr, mask=mask, cmap=cmap, vmax=.3, center=0,\n",
    "            square=True, linewidths=.5, cbar_kws={\"shrink\": .5}, \n",
    "            annot=True, cbar=False);"
   ]
  },
  {
   "cell_type": "code",
   "execution_count": 26,
   "id": "9baf10e0",
   "metadata": {},
   "outputs": [
    {
     "data": {
      "image/png": "[encoded data removed]",
      "text/plain": [
       "<Figure size 792x648 with 1 Axes>"
      ]
     },
     "metadata": {},
     "output_type": "display_data"
    }
   ],
   "source": [
    "df_correl = train.drop(columns=['id','price','x','y','z'])\n",
    "\n",
    "sns.set_theme(style=\"white\")\n",
    "corr = df_correl.corr()\n",
    "mask = np.triu(np.ones_like(corr, dtype=bool))\n",
    "f, ax = plt.subplots(figsize=(11, 9))\n",
    "cmap = sns.diverging_palette(230, 20, as_cmap=True)\n",
    "sns.heatmap(corr, mask=mask, cmap=cmap, vmax=.3, center=0,\n",
    "            square=True, linewidths=.5, cbar_kws={\"shrink\": .5}, \n",
    "            annot=True, cbar=False);"
   ]
  },
  {
   "cell_type": "code",
   "execution_count": 32,
   "id": "2fb1d50d",
   "metadata": {},
   "outputs": [
    {
     "data": {
      "text/plain": [
       "carat      0.921128\n",
       "cut       -0.052115\n",
       "color      0.172244\n",
       "clarity   -0.142408\n",
       "depth     -0.015052\n",
       "table      0.127691\n",
       "price      1.000000\n",
       "Name: price, dtype: float64"
      ]
     },
     "execution_count": 32,
     "metadata": {},
     "output_type": "execute_result"
    }
   ],
   "source": [
    "train.drop(columns=['id','x','y','z']).corr().price"
   ]
  },
  {
   "cell_type": "markdown",
   "id": "5683687b",
   "metadata": {},
   "source": [
    "Tried scaling all data but RMSE did not improve"
   ]
  },
  {
   "cell_type": "markdown",
   "id": "78433d56",
   "metadata": {},
   "source": [
    "## Modeling"
   ]
  },
  {
   "cell_type": "markdown",
   "id": "78ebd089",
   "metadata": {},
   "source": [
    "Split data 80% train, 20% test:"
   ]
  },
  {
   "cell_type": "code",
   "execution_count": 44,
   "id": "1c7b0313",
   "metadata": {},
   "outputs": [],
   "source": [
    "y = train.price\n",
    "X = train.drop(columns=['id','price','x','y','z'])"
   ]
  },
  {
   "cell_type": "code",
   "execution_count": 45,
   "id": "75d2afed",
   "metadata": {},
   "outputs": [],
   "source": [
    "X_train, X_test, y_train, y_test = train_test_split(X,y,test_size=.2)"
   ]
  },
  {
   "cell_type": "code",
   "execution_count": 46,
   "id": "6e98fcbf",
   "metadata": {},
   "outputs": [
    {
     "name": "stdout",
     "output_type": "stream",
     "text": [
      "(40455, 6)\n",
      "(40455,)\n",
      "(32364, 6)\n",
      "(32364,)\n",
      "(8091, 6)\n",
      "(8091,)\n"
     ]
    }
   ],
   "source": [
    "print(X.shape)\n",
    "print(y.shape)\n",
    "print(X_train.shape)\n",
    "print(y_train.shape)\n",
    "print(X_test.shape)\n",
    "print(y_test.shape)"
   ]
  },
  {
   "cell_type": "markdown",
   "id": "52157dd7",
   "metadata": {},
   "source": [
    "Test multiple regressors:"
   ]
  },
  {
   "cell_type": "code",
   "execution_count": 52,
   "id": "69a1ba9e",
   "metadata": {},
   "outputs": [],
   "source": [
    "models={\n",
    "    'linear': LinearRegression(),\n",
    "    'ridge': Ridge(),\n",
    "    'Lasso': Lasso(),\n",
    "    'SGD': SGDRegressor(),\n",
    "    'Elastic': ElasticNet(),\n",
    "    'GradBoosting': GradientBoostingRegressor(),\n",
    "    'RandForest' : RandomForestRegressor(),\n",
    "    'KNeighbors': KNeighborsRegressor(),\n",
    "    'DecisionTree': DecisionTreeRegressor()}"
   ]
  },
  {
   "cell_type": "code",
   "execution_count": 53,
   "id": "25cd31f6",
   "metadata": {},
   "outputs": [
    {
     "name": "stdout",
     "output_type": "stream",
     "text": [
      "train:  linear\n",
      "train:  ridge\n",
      "train:  Lasso\n",
      "train:  SGD\n",
      "train:  Elastic\n",
      "train:  GradBoosting\n",
      "train:  RandForest\n",
      "train:  KNeighbors\n",
      "train:  DecisionTree\n"
     ]
    }
   ],
   "source": [
    "for name,model in models.items():\n",
    "    print('train: ', name)\n",
    "    model.fit(X_train, y_train)"
   ]
  },
  {
   "cell_type": "code",
   "execution_count": 55,
   "id": "859fa864",
   "metadata": {},
   "outputs": [
    {
     "name": "stdout",
     "output_type": "stream",
     "text": [
      "------linear------\n",
      "RMSE 1234.25\n",
      "%RMSE 31.25\n",
      "R2 0.91\n",
      "------ridge------\n",
      "RMSE 1234.28\n",
      "%RMSE 31.25\n",
      "R2 0.91\n",
      "------Lasso------\n",
      "RMSE 1234.38\n",
      "%RMSE 31.25\n",
      "R2 0.91\n",
      "------SGD------\n",
      "RMSE 125123615.03\n",
      "%RMSE -139.98\n",
      "R2 -937830542.23\n",
      "------Elastic------\n",
      "RMSE 3061.98\n",
      "%RMSE 77.73\n",
      "R2 0.44\n",
      "------GradBoosting------\n",
      "RMSE 622.05\n",
      "%RMSE 15.67\n",
      "R2 0.98\n",
      "------RandForest------\n",
      "RMSE 541.91\n",
      "%RMSE 13.64\n",
      "R2 0.98\n",
      "------KNeighbors------\n",
      "RMSE 1723.44\n",
      "%RMSE 46.88\n",
      "R2 0.82\n",
      "------DecisionTree------\n",
      "RMSE 719.19\n",
      "%RMSE 18.1\n",
      "R2 0.97\n"
     ]
    }
   ],
   "source": [
    "for name,model in models.items():\n",
    "    y_pred = model.predict(X_test)\n",
    "    print(f\"------{name}------\")\n",
    "#    print('MEAN',round(y_pred.mean(),3))\n",
    "    print('RMSE', round(np.sqrt(metrics.mean_squared_error(y_test, y_pred)),2))\n",
    "    print('%RMSE', round(np.sqrt(metrics.mean_squared_error(y_test, y_pred))/y_pred.mean()*100,2))\n",
    "    print('R2', round(metrics.r2_score(y_test, y_pred),2))"
   ]
  },
  {
   "cell_type": "markdown",
   "id": "1c6991be",
   "metadata": {},
   "source": [
    "Random Forest Regression, Gradient Boosting Regression and Decision Tree Regression perform the best so far."
   ]
  },
  {
   "cell_type": "markdown",
   "id": "b78e84b6",
   "metadata": {},
   "source": [
    "#### Reassess Random Forest Regression Features:"
   ]
  },
  {
   "cell_type": "code",
   "execution_count": 61,
   "id": "7957655d",
   "metadata": {},
   "outputs": [
    {
     "name": "stdout",
     "output_type": "stream",
     "text": [
      "Num Features: 3\n",
      "Selected Features: [ True False  True  True False False]\n",
      "Feature Ranking: [1 4 1 1 2 3]\n",
      "['carat', 'cut', 'color', 'clarity', 'depth', 'table']\n"
     ]
    }
   ],
   "source": [
    "test_ = SelectKBest(score_func=chi2, k='all')\n",
    "fit = test_.fit(X,y)\n",
    "features = fit.transform(X)\n",
    "RandForest = RandomForestRegressor()\n",
    "rfe = RFE(RandForest)\n",
    "fit = rfe.fit(X,y)\n",
    "print(\"Num Features: %s\" % (fit.n_features_))\n",
    "print(\"Selected Features: %s\" % (fit.support_))\n",
    "print(\"Feature Ranking: %s\" % (fit.ranking_))\n",
    "print(list(X.columns))"
   ]
  },
  {
   "cell_type": "markdown",
   "id": "05ff0afc",
   "metadata": {},
   "source": [
    "Seems 'cut' and 'table' could still be removed for more testing."
   ]
  },
  {
   "cell_type": "markdown",
   "id": "94818665",
   "metadata": {},
   "source": [
    "#### Parameters Optimization"
   ]
  },
  {
   "cell_type": "code",
   "execution_count": 64,
   "id": "7a494f5f",
   "metadata": {},
   "outputs": [
    {
     "data": {
      "text/plain": [
       "{'bootstrap': True,\n",
       " 'ccp_alpha': 0.0,\n",
       " 'criterion': 'squared_error',\n",
       " 'max_depth': None,\n",
       " 'max_features': 'auto',\n",
       " 'max_leaf_nodes': None,\n",
       " 'max_samples': None,\n",
       " 'min_impurity_decrease': 0.0,\n",
       " 'min_samples_leaf': 1,\n",
       " 'min_samples_split': 2,\n",
       " 'min_weight_fraction_leaf': 0.0,\n",
       " 'n_estimators': 100,\n",
       " 'n_jobs': None,\n",
       " 'oob_score': False,\n",
       " 'random_state': None,\n",
       " 'verbose': 0,\n",
       " 'warm_start': False}"
      ]
     },
     "execution_count": 64,
     "metadata": {},
     "output_type": "execute_result"
    }
   ],
   "source": [
    "RandForest.get_params()"
   ]
  },
  {
   "cell_type": "markdown",
   "id": "6d2072cf",
   "metadata": {},
   "source": [
    "Random Search CV"
   ]
  },
  {
   "cell_type": "code",
   "execution_count": 69,
   "id": "a6b03eff",
   "metadata": {},
   "outputs": [
    {
     "name": "stdout",
     "output_type": "stream",
     "text": [
      "{'bootstrap': [True, False],\n",
      " 'max_depth': [10, 20, 30, 40, 50, 60, 70, 80, 90, 100, 110, None],\n",
      " 'max_features': ['auto', 'sqrt'],\n",
      " 'min_samples_leaf': [1, 2, 4],\n",
      " 'min_samples_split': [2, 5, 10],\n",
      " 'n_estimators': [200, 400, 600, 800, 1000, 1200, 1400, 1600, 1800, 2000]}\n"
     ]
    }
   ],
   "source": [
    "# Number of trees in random forest\n",
    "n_estimators = [int(x) for x in np.linspace(start = 200, stop = 2000, num = 10)]\n",
    "# Number of features to consider at every split\n",
    "max_features = ['auto', 'sqrt']\n",
    "# Maximum number of levels in tree\n",
    "max_depth = [int(x) for x in np.linspace(10, 110, num = 11)]\n",
    "max_depth.append(None)\n",
    "# Minimum number of samples required to split a node\n",
    "min_samples_split = [2, 5, 10]\n",
    "# Minimum number of samples required at each leaf node\n",
    "min_samples_leaf = [1, 2, 4]\n",
    "# Method of selecting samples for training each tree\n",
    "bootstrap = [True, False]\n",
    "# Create the random grid\n",
    "random_grid = {'n_estimators': n_estimators,\n",
    "               'max_features': max_features,\n",
    "               'max_depth': max_depth,\n",
    "               'min_samples_split': min_samples_split,\n",
    "               'min_samples_leaf': min_samples_leaf,\n",
    "               'bootstrap': bootstrap}\n",
    "pprint(random_grid)"
   ]
  },
  {
   "cell_type": "code",
   "execution_count": null,
   "id": "c6774117",
   "metadata": {},
   "outputs": [],
   "source": [
    "# Use the random grid to search for best hyperparameters\n",
    "# First create the base model to tune\n",
    "#rf = RandomForestRegressor()\n",
    "# Random search of parameters, using 3 fold cross validation, \n",
    "# search across 100 different combinations, and use all available cores\n",
    "#rf_random = RandomizedSearchCV(estimator = rf, param_distributions = random_grid, n_iter = 100, cv = 3, verbose=2, random_state=42, n_jobs = -1)\n",
    "# Fit the random search model\n",
    "#rf_random.fit(X_train, y_train)"
   ]
  },
  {
   "cell_type": "code",
   "execution_count": null,
   "id": "652a6569",
   "metadata": {},
   "outputs": [],
   "source": [
    "#pprint(rf_random.best_params_)"
   ]
  },
  {
   "cell_type": "markdown",
   "id": "8aed2dcc",
   "metadata": {},
   "source": [
    "Regression with Best Params from Random Search:"
   ]
  },
  {
   "cell_type": "code",
   "execution_count": 88,
   "id": "7329b6d6",
   "metadata": {},
   "outputs": [],
   "source": [
    "RandForest1 = RandomForestRegressor(n_estimators=1600,bootstrap=True, max_depth=None,\n",
    "                                 max_features='auto',min_samples_leaf=2,\n",
    "                                 min_samples_split=10)"
   ]
  },
  {
   "cell_type": "code",
   "execution_count": 89,
   "id": "f6690998",
   "metadata": {},
   "outputs": [
    {
     "data": {
      "text/plain": [
       "RandomForestRegressor(min_samples_leaf=2, min_samples_split=10,\n",
       "                      n_estimators=1600)"
      ]
     },
     "execution_count": 89,
     "metadata": {},
     "output_type": "execute_result"
    }
   ],
   "source": [
    "RandForest1.fit(X_train,y_train)"
   ]
  },
  {
   "cell_type": "code",
   "execution_count": 93,
   "id": "5253d4a3",
   "metadata": {},
   "outputs": [],
   "source": [
    "y_pred_train1 = RandForest1.predict(X_train)\n",
    "y_pred1 = RandForest1.predict(X_test)"
   ]
  },
  {
   "cell_type": "code",
   "execution_count": 94,
   "id": "0ba434fb",
   "metadata": {},
   "outputs": [
    {
     "name": "stdout",
     "output_type": "stream",
     "text": [
      "RMSE 537.92\n",
      "%RMSE 13.54\n",
      "R2 0.98\n"
     ]
    }
   ],
   "source": [
    "print('RMSE', round(np.sqrt(metrics.mean_squared_error(y_test, y_pred1)),2))\n",
    "print('%RMSE', round(np.sqrt(metrics.mean_squared_error(y_test, y_pred1))/y_pred1.mean()*100,2))\n",
    "print('R2', round(metrics.r2_score(y_test, y_pred1),2))"
   ]
  },
  {
   "cell_type": "code",
   "execution_count": 95,
   "id": "23a8582a",
   "metadata": {},
   "outputs": [
    {
     "name": "stdout",
     "output_type": "stream",
     "text": [
      "RMSE 380.53\n",
      "%RMSE 9.68\n",
      "R2 0.99\n"
     ]
    }
   ],
   "source": [
    "print('RMSE', round(np.sqrt(metrics.mean_squared_error(y_train, y_pred_train1)),2))\n",
    "print('%RMSE', round(np.sqrt(metrics.mean_squared_error(y_train, y_pred_train1))/y_pred_train1.mean()*100,2))\n",
    "print('R2', round(metrics.r2_score(y_train, y_pred_train1),2))"
   ]
  },
  {
   "cell_type": "markdown",
   "id": "891a6b58",
   "metadata": {},
   "source": [
    "Train with all training data"
   ]
  },
  {
   "cell_type": "code",
   "execution_count": 104,
   "id": "bdc27ccb",
   "metadata": {},
   "outputs": [],
   "source": [
    "price = RandForest1.predict(X)"
   ]
  },
  {
   "cell_type": "code",
   "execution_count": 105,
   "id": "7c8c750f",
   "metadata": {},
   "outputs": [
    {
     "name": "stdout",
     "output_type": "stream",
     "text": [
      "RMSE 416.79\n",
      "%RMSE 10.58\n",
      "R2 0.99\n"
     ]
    }
   ],
   "source": [
    "print('RMSE', round(np.sqrt(metrics.mean_squared_error(y, price)),2))\n",
    "print('%RMSE', round(np.sqrt(metrics.mean_squared_error(y, price))/price.mean()*100,2))\n",
    "print('R2', round(metrics.r2_score(y, price),2))"
   ]
  },
  {
   "cell_type": "code",
   "execution_count": 102,
   "id": "bb8ac136",
   "metadata": {},
   "outputs": [
    {
     "data": {
      "text/html": [
       "<div>\n",
       "<style scoped>\n",
       "    .dataframe tbody tr th:only-of-type {\n",
       "        vertical-align: middle;\n",
       "    }\n",
       "\n",
       "    .dataframe tbody tr th {\n",
       "        vertical-align: top;\n",
       "    }\n",
       "\n",
       "    .dataframe thead th {\n",
       "        text-align: right;\n",
       "    }\n",
       "</style>\n",
       "<table border=\"1\" class=\"dataframe\">\n",
       "  <thead>\n",
       "    <tr style=\"text-align: right;\">\n",
       "      <th></th>\n",
       "      <th>carat</th>\n",
       "      <th>cut</th>\n",
       "      <th>color</th>\n",
       "      <th>clarity</th>\n",
       "      <th>depth</th>\n",
       "      <th>table</th>\n",
       "    </tr>\n",
       "  </thead>\n",
       "  <tbody>\n",
       "    <tr>\n",
       "      <th>0</th>\n",
       "      <td>1.14</td>\n",
       "      <td>5</td>\n",
       "      <td>1.5</td>\n",
       "      <td>9</td>\n",
       "      <td>61.0</td>\n",
       "      <td>56.0</td>\n",
       "    </tr>\n",
       "  </tbody>\n",
       "</table>\n",
       "</div>"
      ],
      "text/plain": [
       "   carat  cut  color  clarity  depth  table\n",
       "0   1.14    5    1.5        9   61.0   56.0"
      ]
     },
     "execution_count": 102,
     "metadata": {},
     "output_type": "execute_result"
    }
   ],
   "source": [
    "X.head(1)"
   ]
  },
  {
   "cell_type": "code",
   "execution_count": 103,
   "id": "8d700a6c",
   "metadata": {},
   "outputs": [
    {
     "data": {
      "text/html": [
       "<div>\n",
       "<style scoped>\n",
       "    .dataframe tbody tr th:only-of-type {\n",
       "        vertical-align: middle;\n",
       "    }\n",
       "\n",
       "    .dataframe tbody tr th {\n",
       "        vertical-align: top;\n",
       "    }\n",
       "\n",
       "    .dataframe thead th {\n",
       "        text-align: right;\n",
       "    }\n",
       "</style>\n",
       "<table border=\"1\" class=\"dataframe\">\n",
       "  <thead>\n",
       "    <tr style=\"text-align: right;\">\n",
       "      <th></th>\n",
       "      <th>carat</th>\n",
       "      <th>cut</th>\n",
       "      <th>color</th>\n",
       "      <th>clarity</th>\n",
       "      <th>depth</th>\n",
       "      <th>table</th>\n",
       "    </tr>\n",
       "  </thead>\n",
       "  <tbody>\n",
       "    <tr>\n",
       "      <th>0</th>\n",
       "      <td>1.0</td>\n",
       "      <td>1</td>\n",
       "      <td>3.0</td>\n",
       "      <td>5</td>\n",
       "      <td>56.3</td>\n",
       "      <td>64.0</td>\n",
       "    </tr>\n",
       "  </tbody>\n",
       "</table>\n",
       "</div>"
      ],
      "text/plain": [
       "   carat  cut  color  clarity  depth  table\n",
       "0    1.0    1    3.0        5   56.3   64.0"
      ]
     },
     "execution_count": 103,
     "metadata": {},
     "output_type": "execute_result"
    }
   ],
   "source": [
    "test.drop(columns=['id','x','y','z']).head(1)"
   ]
  },
  {
   "cell_type": "code",
   "execution_count": 106,
   "id": "7eb57a13",
   "metadata": {},
   "outputs": [],
   "source": [
    "attempt = RandForest1.predict(test.drop(columns=['id','x','y','z']))"
   ]
  },
  {
   "cell_type": "code",
   "execution_count": 108,
   "id": "15643026",
   "metadata": {},
   "outputs": [
    {
     "data": {
      "text/plain": [
       "array([3264.16403617, 3056.79842338, 3442.24773548, ..., 7901.83604935,\n",
       "        656.51098418, 1043.29376102])"
      ]
     },
     "execution_count": 108,
     "metadata": {},
     "output_type": "execute_result"
    }
   ],
   "source": [
    "attempt"
   ]
  },
  {
   "cell_type": "code",
   "execution_count": 113,
   "id": "e1b2f727",
   "metadata": {},
   "outputs": [
    {
     "data": {
      "text/html": [
       "<div>\n",
       "<style scoped>\n",
       "    .dataframe tbody tr th:only-of-type {\n",
       "        vertical-align: middle;\n",
       "    }\n",
       "\n",
       "    .dataframe tbody tr th {\n",
       "        vertical-align: top;\n",
       "    }\n",
       "\n",
       "    .dataframe thead th {\n",
       "        text-align: right;\n",
       "    }\n",
       "</style>\n",
       "<table border=\"1\" class=\"dataframe\">\n",
       "  <thead>\n",
       "    <tr style=\"text-align: right;\">\n",
       "      <th></th>\n",
       "      <th>id</th>\n",
       "      <th>price</th>\n",
       "    </tr>\n",
       "  </thead>\n",
       "  <tbody>\n",
       "    <tr>\n",
       "      <th>0</th>\n",
       "      <td>0</td>\n",
       "      <td>3264.164036</td>\n",
       "    </tr>\n",
       "    <tr>\n",
       "      <th>1</th>\n",
       "      <td>1</td>\n",
       "      <td>3056.798423</td>\n",
       "    </tr>\n",
       "    <tr>\n",
       "      <th>2</th>\n",
       "      <td>2</td>\n",
       "      <td>3442.247735</td>\n",
       "    </tr>\n",
       "  </tbody>\n",
       "</table>\n",
       "</div>"
      ],
      "text/plain": [
       "   id        price\n",
       "0   0  3264.164036\n",
       "1   1  3056.798423\n",
       "2   2  3442.247735"
      ]
     },
     "execution_count": 113,
     "metadata": {},
     "output_type": "execute_result"
    }
   ],
   "source": [
    "attempt = pd.DataFrame(attempt)\n",
    "attempt = attempt[['id','price']]\n",
    "attempt.head(3)"
   ]
  },
  {
   "cell_type": "code",
   "execution_count": 114,
   "id": "b2f2d253",
   "metadata": {},
   "outputs": [],
   "source": [
    "attempt.to_csv('data/attempt.csv', index=False)"
   ]
  },
  {
   "cell_type": "code",
   "execution_count": null,
   "id": "fe8fbd1b",
   "metadata": {},
   "outputs": [],
   "source": []
  },
  {
   "cell_type": "markdown",
   "id": "4dc52a39",
   "metadata": {},
   "source": [
    "Grid Search CV"
   ]
  },
  {
   "cell_type": "code",
   "execution_count": 86,
   "id": "b35a9c0a",
   "metadata": {},
   "outputs": [],
   "source": [
    "param_grid = {'bootstrap': [True, False],\n",
    "              'max_features': ['auto', 'sqrt'],\n",
    "              'min_samples_leaf': [1, 2, 4],\n",
    "              'min_samples_split': [2, 5, 10]}"
   ]
  },
  {
   "cell_type": "code",
   "execution_count": 87,
   "id": "5e4881fa",
   "metadata": {},
   "outputs": [
    {
     "name": "stdout",
     "output_type": "stream",
     "text": [
      "Fitting 5 folds for each of 36 candidates, totalling 180 fits\n",
      "{'bootstrap': True, 'max_features': 'auto', 'min_samples_leaf': 2, 'min_samples_split': 10}\n"
     ]
    }
   ],
   "source": [
    "RandForest = RandomForestRegressor()\n",
    "grid = GridSearchCV(RandForest, param_grid, verbose=1)\n",
    "grid.fit(X_train,y_train)\n",
    "print(grid.best_params_)"
   ]
  },
  {
   "cell_type": "code",
   "execution_count": 96,
   "id": "fdc7da07",
   "metadata": {},
   "outputs": [],
   "source": [
    "RandForest2 = RandomForestRegressor(bootstrap=True, max_features='auto', min_samples_leaf=2, min_samples_split=10)\n",
    "RandForest2.fit(X_train,y_train)\n",
    "y_pred_train2 = RandForest2.predict(X_train)\n",
    "y_pred2 = RandForest2.predict(X_test)"
   ]
  },
  {
   "cell_type": "code",
   "execution_count": 97,
   "id": "97b13384",
   "metadata": {},
   "outputs": [
    {
     "name": "stdout",
     "output_type": "stream",
     "text": [
      "RMSE 538.41\n",
      "%RMSE 13.55\n",
      "R2 0.98\n"
     ]
    }
   ],
   "source": [
    "print('RMSE', round(np.sqrt(metrics.mean_squared_error(y_test, y_pred2)),2))\n",
    "print('%RMSE', round(np.sqrt(metrics.mean_squared_error(y_test, y_pred2))/y_pred2.mean()*100,2))\n",
    "print('R2', round(metrics.r2_score(y_test, y_pred2),2))"
   ]
  },
  {
   "cell_type": "code",
   "execution_count": 98,
   "id": "3b9ffaa8",
   "metadata": {},
   "outputs": [
    {
     "name": "stdout",
     "output_type": "stream",
     "text": [
      "RMSE 382.33\n",
      "%RMSE 9.73\n",
      "R2 0.99\n"
     ]
    }
   ],
   "source": [
    "print('RMSE', round(np.sqrt(metrics.mean_squared_error(y_train, y_pred_train2)),2))\n",
    "print('%RMSE', round(np.sqrt(metrics.mean_squared_error(y_train, y_pred_train2))/y_pred_train2.mean()*100,2))\n",
    "print('R2', round(metrics.r2_score(y_train, y_pred_train2),2))"
   ]
  },
  {
   "cell_type": "code",
   "execution_count": null,
   "id": "4574048b",
   "metadata": {},
   "outputs": [],
   "source": []
  },
  {
   "cell_type": "code",
   "execution_count": null,
   "id": "042720fa",
   "metadata": {},
   "outputs": [],
   "source": []
  },
  {
   "cell_type": "markdown",
   "id": "59c2be18",
   "metadata": {},
   "source": [
    "### Model"
   ]
  },
  {
   "cell_type": "code",
   "execution_count": null,
   "id": "ac6acd1b",
   "metadata": {},
   "outputs": [],
   "source": []
  }
 ],
 "metadata": {
  "kernelspec": {
   "display_name": "ironhack",
   "language": "python",
   "name": "ironhack"
  },
  "language_info": {
   "codemirror_mode": {
    "name": "ipython",
    "version": 3
   },
   "file_extension": ".py",
   "mimetype": "text/x-python",
   "name": "python",
   "nbconvert_exporter": "python",
   "pygments_lexer": "ipython3",
   "version": "3.9.7"
  }
 },
 "nbformat": 4,
 "nbformat_minor": 5
}
